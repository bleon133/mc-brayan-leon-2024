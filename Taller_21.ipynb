{
  "nbformat": 4,
  "nbformat_minor": 0,
  "metadata": {
    "colab": {
      "provenance": []
    },
    "kernelspec": {
      "name": "python3",
      "display_name": "Python 3"
    },
    "language_info": {
      "name": "python"
    }
  },
  "cells": [
    {
      "cell_type": "code",
      "execution_count": 57,
      "metadata": {
        "id": "PysVcn8FvKWl"
      },
      "outputs": [],
      "source": [
        "#Brayan Steven León Martinez - Taller 20 - Matemáticas Computacional\n",
        "from math import sqrt\n",
        "import copy\n",
        "import matplotlib.pyplot as plt\n",
        "x=[1,3,5,7,9,11,13]\n",
        "y=[7.4,1.8,-1,-1.8,-1.2,2.2,7.2]\n",
        "n=len(x)"
      ]
    },
    {
      "cell_type": "code",
      "source": [
        "plt.plot(x, y, 'ro')\n",
        "plt.show()"
      ],
      "metadata": {
        "colab": {
          "base_uri": "https://localhost:8080/",
          "height": 430
        },
        "id": "txJcd1GG2bOJ",
        "outputId": "b25fc356-c6a8-4251-a49c-c04bc125e4b9"
      },
      "execution_count": 58,
      "outputs": [
        {
          "output_type": "display_data",
          "data": {
            "text/plain": [
              "<Figure size 640x480 with 1 Axes>"
            ],
            "image/png": "[encoded data removed]"
          },
          "metadata": {}
        }
      ]
    },
    {
      "cell_type": "code",
      "source": [
        "highx2 = []\n",
        "highx3 = []\n",
        "highx4 = []\n",
        "multxy = []\n",
        "highx2multx = []\n",
        "for i in range(n):\n",
        "    highx2.append(x[i]**2)\n",
        "    highx3.append(x[i]**3)\n",
        "    highx4.append(x[i]**4)\n",
        "    multxy.append(x[i]*y[i])\n",
        "    highx2multx.append((x[i]**2)*y[i])"
      ],
      "metadata": {
        "id": "Y8seCcAgvb3a"
      },
      "execution_count": 59,
      "outputs": []
    },
    {
      "cell_type": "code",
      "source": [
        "sumatoria_x=sum(x)\n",
        "sumatoria_y=sum(y)\n",
        "sumatoria_highx2=sum(highx2)\n",
        "sumatoria_highx3=sum(highx3)\n",
        "sumatoria_highx4=sum(highx4)\n",
        "sumatoria_multxy=sum(multxy)\n",
        "sumatoria_highx2multx=sum(highx2multx)\n",
        "promedio_y=sumatoria_y/n"
      ],
      "metadata": {
        "id": "bWTg_BtJwYqX"
      },
      "execution_count": 60,
      "outputs": []
    },
    {
      "cell_type": "code",
      "source": [
        "a = [[n, sumatoria_x, sumatoria_highx2], [sumatoria_x, sumatoria_highx2, sumatoria_highx3], [sumatoria_highx2, sumatoria_highx3, sumatoria_highx4]]\n",
        "b = [sumatoria_y, sumatoria_multxy, sumatoria_highx2multx]\n",
        "matrizGauss = gaussJordan(a, b)"
      ],
      "metadata": {
        "colab": {
          "base_uri": "https://localhost:8080/"
        },
        "id": "D0Ld3suwyld8",
        "outputId": "8238844e-ba6f-458d-bd3f-9a2b86210a34"
      },
      "execution_count": 61,
      "outputs": [
        {
          "output_type": "stream",
          "name": "stdout",
          "text": [
            "Matriz inicial\n",
            "7 49 455 | 14.600000000000001\n",
            "49 455 4753 | 102.20000000000002\n",
            "455 4753 52871 | 1296.2\n",
            "\n",
            "pivote: 7, i: 0\n",
            "División\n",
            "1.0 7.0 65.0 | 2.085714285714286\n",
            "49 455 4753 | 102.20000000000002\n",
            "455 4753 52871 | 1296.2\n",
            "\n",
            "Reducción\n",
            "1.0 7.0 65.0 | 2.085714285714286\n",
            "0.0 112.0 1568.0 | 1.4210854715202004e-14\n",
            "0.0 1568.0 23296.0 | 347.19999999999993\n",
            "\n",
            "pivote: 112.0, i: 1\n",
            "División\n",
            "1.0 7.0 65.0 | 2.085714285714286\n",
            "0.0 1.0 14.0 | 1.2688263138573217e-16\n",
            "0.0 1568.0 23296.0 | 347.19999999999993\n",
            "\n",
            "Reducción\n",
            "1.0 0.0 -33.0 | 2.085714285714285\n",
            "0.0 1.0 14.0 | 1.2688263138573217e-16\n",
            "0.0 0.0 1344.0 | 347.1999999999997\n",
            "\n",
            "pivote: 1344.0, i: 2\n",
            "División\n",
            "1.0 0.0 -33.0 | 2.085714285714285\n",
            "0.0 1.0 14.0 | 1.2688263138573217e-16\n",
            "0.0 0.0 1.0 | 0.25833333333333314\n",
            "\n",
            "Reducción\n",
            "1.0 0.0 0.0 | 10.610714285714279\n",
            "0.0 1.0 0.0 | -3.616666666666664\n",
            "0.0 0.0 1.0 | 0.25833333333333314\n",
            "\n"
          ]
        }
      ]
    },
    {
      "cell_type": "code",
      "source": [
        "a0=matrizGauss[0]\n",
        "a1=matrizGauss[1]\n",
        "a2=matrizGauss[2]\n",
        "print(\"a0: \" + str(a0))\n",
        "print(\"a1: \" + str(a1))\n",
        "print(\"a2: \" + str(a2))"
      ],
      "metadata": {
        "colab": {
          "base_uri": "https://localhost:8080/"
        },
        "id": "O56pvxxQ0OAT",
        "outputId": "61acab23-47b5-45ee-bc4e-cf61a9e2519f"
      },
      "execution_count": 62,
      "outputs": [
        {
          "output_type": "stream",
          "name": "stdout",
          "text": [
            "a0: 10.610714285714279\n",
            "a1: -3.616666666666664\n",
            "a2: 0.25833333333333314\n"
          ]
        }
      ]
    },
    {
      "cell_type": "code",
      "source": [
        "print(\"y: \" + str(a0) + \" + \" + str(a1) + \"x + \" + str(a2) + \"x^2\")"
      ],
      "metadata": {
        "colab": {
          "base_uri": "https://localhost:8080/"
        },
        "id": "GKB-ybZU2ulg",
        "outputId": "081082f5-968b-4920-850b-74ba45bc29fa"
      },
      "execution_count": 63,
      "outputs": [
        {
          "output_type": "stream",
          "name": "stdout",
          "text": [
            "y: 10.610714285714279 + -3.616666666666664x + 0.25833333333333314x^2\n"
          ]
        }
      ]
    },
    {
      "cell_type": "code",
      "source": [
        "stArray = []\n",
        "srArray = []\n",
        "for i in range(n):\n",
        "    stArray.append((y[i]-promedio_y)**2)\n",
        "    srArray.append((y[i]-a0-a1*x[i]-a2*x[i]**2)**2)"
      ],
      "metadata": {
        "id": "5ljaxlefxAVl"
      },
      "execution_count": 64,
      "outputs": []
    },
    {
      "cell_type": "code",
      "source": [
        "st=sum(stArray)\n",
        "sr=sum(srArray)\n",
        "print(\"St: \" + str(st))\n",
        "print(\"Sr: \" + str(sr))"
      ],
      "metadata": {
        "colab": {
          "base_uri": "https://localhost:8080/"
        },
        "id": "2QJFlxfO1pWp",
        "outputId": "0209be7c-9d1d-406d-ec11-a69ccd095eee"
      },
      "execution_count": 65,
      "outputs": [
        {
          "output_type": "stream",
          "name": "stdout",
          "text": [
            "St: 89.90857142857143\n",
            "Sr: 0.2152380952380939\n"
          ]
        }
      ]
    },
    {
      "cell_type": "code",
      "source": [
        "coef = sqrt((st-sr)/st)*100\n",
        "print(\"Coef. Correlación: \" + str(coef))"
      ],
      "metadata": {
        "colab": {
          "base_uri": "https://localhost:8080/"
        },
        "id": "tZuxLT1h1x7p",
        "outputId": "21ace946-8dc1-49da-e8c4-96c5f8e79c6f"
      },
      "execution_count": 66,
      "outputs": [
        {
          "output_type": "stream",
          "name": "stdout",
          "text": [
            "Coef. Correlación: 99.8802299578171\n"
          ]
        }
      ]
    },
    {
      "cell_type": "code",
      "source": [
        "ry=[]\n",
        "for i in range(n):\n",
        "    ry.append(a0 + (a1*x[i]) + (a2*x[i]**2))"
      ],
      "metadata": {
        "id": "6ZtJqupL2DXU"
      },
      "execution_count": 67,
      "outputs": []
    },
    {
      "cell_type": "code",
      "source": [
        "plt.plot(x, y, 'r--', x, ry, 'bs')\n",
        "plt.show()"
      ],
      "metadata": {
        "colab": {
          "base_uri": "https://localhost:8080/",
          "height": 430
        },
        "id": "BO9Qm1Lt3TRO",
        "outputId": "721f4e89-1cbf-4312-b7e5-e3d57ecb82f3"
      },
      "execution_count": 68,
      "outputs": [
        {
          "output_type": "display_data",
          "data": {
            "text/plain": [
              "<Figure size 640x480 with 1 Axes>"
            ],
            "image/png": "[encoded data removed]"
          },
          "metadata": {}
        }
      ]
    },
    {
      "cell_type": "code",
      "source": [
        "def imprimirSistema(a, b, etiqueta):\n",
        "    n = len(b)\n",
        "    print(etiqueta)\n",
        "    for i in range(n):\n",
        "        for j in range(n):\n",
        "            print(a[i][j], end = \" \")\n",
        "        print(\"|\", b[i])\n",
        "    print()"
      ],
      "metadata": {
        "id": "opTSXYcByyVb"
      },
      "execution_count": 17,
      "outputs": []
    },
    {
      "cell_type": "code",
      "source": [
        "def gaussJordan(ao, bo):\n",
        "    a = copy.deepcopy(ao)\n",
        "    b = copy.copy(bo)\n",
        "\n",
        "    n = len(b)\n",
        "    imprimirSistema(a, b, \"Matriz inicial\")\n",
        "    for i in range(n):\n",
        "        pivote = a[i][i]\n",
        "        if(pivote == 0):\n",
        "            for j in range(i+1, n):\n",
        "                pivoteCorreccion = a[j][i]\n",
        "                if(pivoteCorreccion != 0):\n",
        "                    tempA = a[j]\n",
        "                    tempB = b[j]\n",
        "                    a[j] = a[i]\n",
        "                    b[j] = b[i]\n",
        "                    a[i] = tempA\n",
        "                    b[i] = tempB\n",
        "                    break\n",
        "        pivote = a[i][i]\n",
        "        print(\"pivote: \" + str(pivote) + \", i: \" + str(i))\n",
        "        #Dividir por el pivote\n",
        "        for j in range(n):\n",
        "            a[i][j] /= pivote\n",
        "        b[i] /= pivote\n",
        "        imprimirSistema(a, b, \"División\")\n",
        "\n",
        "        #Reducción\n",
        "        for k in range(n):\n",
        "            if i != k:\n",
        "                #Se reduce\n",
        "                valorAux = -a[k][i]\n",
        "                for j in range(n):\n",
        "                    a[k][j] += a[i][j] * valorAux\n",
        "                b[k] += b[i] * valorAux\n",
        "        imprimirSistema(a, b, \"Reducción\")\n",
        "\n",
        "    return b"
      ],
      "metadata": {
        "id": "1SYHkleDyzkj"
      },
      "execution_count": 18,
      "outputs": []
    }
  ]
}