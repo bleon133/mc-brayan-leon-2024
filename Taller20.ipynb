{
  "nbformat": 4,
  "nbformat_minor": 0,
  "metadata": {
    "colab": {
      "provenance": []
    },
    "kernelspec": {
      "name": "python3",
      "display_name": "Python 3"
    },
    "language_info": {
      "name": "python"
    }
  },
  "cells": [
    {
      "cell_type": "code",
      "source": [
        "#Brayan Steven León Martinez - Taller 20 - Matemáticas Computacional\n",
        "from math import sqrt\n",
        "x=[1,2,3,4,5,6,7]\n",
        "y=[0.1,0.3,0.9,1.7,2.8,4.5,6.9]\n",
        "n=len(x)"
      ],
      "metadata": {
        "id": "W9I0U-ZddUJa"
      },
      "execution_count": 60,
      "outputs": []
    },
    {
      "cell_type": "code",
      "source": [
        "multxy = []\n",
        "highx = []\n",
        "for i in range(n):\n",
        "    multxy.append(x[i]*y[i])\n",
        "    highx.append(x[i]**2)"
      ],
      "metadata": {
        "id": "7G8Xt14Odmuy"
      },
      "execution_count": 61,
      "outputs": []
    },
    {
      "cell_type": "code",
      "source": [
        "sumatoria_x=sum(x)\n",
        "sumatoria_y=sum(y)\n",
        "sumatoria_multxy=sum(multxy)\n",
        "sumatoria_highx=sum(highx)\n",
        "promedio_x=sumatoria_x/n\n",
        "promedio_y=sumatoria_y/n\n",
        "a1=((n*sumatoria_multxy)-(sumatoria_x*sumatoria_y))/((n*sumatoria_highx-sumatoria_x**2))\n",
        "a0=promedio_y-(a1*promedio_x)\n",
        "print(\"y = \" + str(a0) + \" + \" + str(a1) + \"x\")"
      ],
      "metadata": {
        "colab": {
          "base_uri": "https://localhost:8080/"
        },
        "id": "yxKhc48YeJUR",
        "outputId": "4ce02f8b-1fcd-4011-f885-afad004fb14c"
      },
      "execution_count": 62,
      "outputs": [
        {
          "output_type": "stream",
          "name": "stdout",
          "text": [
            "y = -1.9285714285714266 + 1.096428571428571x\n"
          ]
        }
      ]
    },
    {
      "cell_type": "code",
      "source": [
        "starray = []\n",
        "srarray = []\n",
        "for i in range(n):\n",
        "    starray.append((y[i]-promedio_y)**2)\n",
        "    srarray.append((y[i]-a0-(a1*x[i]))**2)"
      ],
      "metadata": {
        "id": "RZibDcAweNiJ"
      },
      "execution_count": 63,
      "outputs": []
    },
    {
      "cell_type": "code",
      "source": [
        "st=sum(starray)\n",
        "sr=sum(srarray)\n",
        "print(\"St: \" + str(st))\n",
        "print(\"Sr: \" + str(sr))"
      ],
      "metadata": {
        "colab": {
          "base_uri": "https://localhost:8080/"
        },
        "id": "x6i7IBYdfKk5",
        "outputId": "d598354d-0eba-428e-fb19-95ed3573b40b"
      },
      "execution_count": 64,
      "outputs": [
        {
          "output_type": "stream",
          "name": "stdout",
          "text": [
            "St: 37.23714285714286\n",
            "Sr: 3.576785714285719\n"
          ]
        }
      ]
    },
    {
      "cell_type": "code",
      "source": [
        "sy = sqrt(st/(n-1))\n",
        "errorEstandar = sqrt(sr/(n-2))\n",
        "print(\"Desviación Estándar: \" + str(sy))\n",
        "print(\"Error Estándar: \" + str(errorEstandar))"
      ],
      "metadata": {
        "colab": {
          "base_uri": "https://localhost:8080/"
        },
        "id": "MUBgmtsZfSfJ",
        "outputId": "1ac11946-9a94-438e-ceee-23a6ffa9979e"
      },
      "execution_count": 65,
      "outputs": [
        {
          "output_type": "stream",
          "name": "stdout",
          "text": [
            "Desviación Estándar: 2.491222686993372\n",
            "Error Estándar: 0.8457878828980372\n"
          ]
        }
      ]
    },
    {
      "cell_type": "code",
      "source": [
        "coeDet = (st-sr)/st\n",
        "coeCorre = sqrt(coeDet)*100\n",
        "print(\"Coef. Determinación: \" + str(coeDet))\n",
        "print(\"Coef. Correlación: \" + str(coeCorre) + \"%\")"
      ],
      "metadata": {
        "colab": {
          "base_uri": "https://localhost:8080/"
        },
        "id": "AtrvFgC8hksn",
        "outputId": "9288c53d-b020-4851-b2d9-2c1478dc58c6"
      },
      "execution_count": 66,
      "outputs": [
        {
          "output_type": "stream",
          "name": "stdout",
          "text": [
            "Coef. Determinación: 0.9039457530883142\n",
            "Coef. Correlación: 95.07606181833123%\n"
          ]
        }
      ]
    }
  ]
}