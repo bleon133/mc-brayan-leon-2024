{
  "nbformat": 4,
  "nbformat_minor": 0,
  "metadata": {
    "colab": {
      "provenance": []
    },
    "kernelspec": {
      "name": "python3",
      "display_name": "Python 3"
    },
    "language_info": {
      "name": "python"
    }
  },
  "cells": [
    {
      "cell_type": "code",
      "execution_count": 1,
      "metadata": {
        "colab": {
          "base_uri": "https://localhost:8080/"
        },
        "id": "4fE8fDswXxra",
        "outputId": "2239d494-6613-43a3-a559-d9d3284a1d23"
      },
      "outputs": [
        {
          "output_type": "stream",
          "name": "stdout",
          "text": [
            "f(x) = 1.0 + 0.3285714285714285x + -0.42857142857142855x^3 {x>=0}{x<1}\n",
            "f(x) = 0.22857142857142876 + 2.642857142857143x + -2.314285714285714x^2 + 0.34285714285714286x^3 {x>=1}{x<2}\n",
            "f(x) = -8.685714285714287 + 16.014285714285712x + -9.0x^2 + 1.4571428571428569x^3 {x>=2}{x<3}\n",
            "f(x) = 67.68571428571427 + -60.357142857142854x + 16.457142857142856x^2 + -1.3714285714285712x^3 {x>=3}{x<4}\n"
          ]
        }
      ],
      "source": [
        "import copy\n",
        "import math\n",
        "\n",
        "def gaussJordan(a, b):\n",
        "  aAux = copy.deepcopy(a)\n",
        "  bAux = b.copy()\n",
        "\n",
        "  n = len(bAux)\n",
        "\n",
        "  #Se construye la matriz triangular superior\n",
        "  for i in range(n):\n",
        "    #Pivoteo\n",
        "    if aAux[i][i] == 0:\n",
        "      for k in range(i + 1, n):\n",
        "        if aAux[k][i] != 0:\n",
        "          filaAux = aAux[i]\n",
        "          aAux[i] = aAux[k]\n",
        "          aAux[k] = filaAux\n",
        "\n",
        "          valoAux = bAux[i]\n",
        "          bAux[i] = bAux[k]\n",
        "          bAux[k] = valoAux\n",
        "          break\n",
        "\n",
        "    #Escalonamiento\n",
        "    valorAux = aAux[i][i]\n",
        "    for j in range(i, n):\n",
        "      aAux[i][j] /= valorAux\n",
        "    bAux[i] /= valorAux\n",
        "\n",
        "    #Reducción\n",
        "    for j in range(n):\n",
        "      if j != i:\n",
        "        fact = aAux[j][i] / aAux[i][i]\n",
        "\n",
        "        for k in range(n):\n",
        "          aAux[j][k] -= (aAux[i][k] * fact)\n",
        "        bAux[j] -= (bAux[i] * fact)\n",
        "\n",
        "  return bAux\n",
        "\n",
        "x = [0, 1, 2, 3, 4]\n",
        "y = [1, 0.9, -1, -2.3, 1.8]\n",
        "\n",
        "n = len(x)\n",
        "\n",
        "#se crea la matriz de los trazadores\n",
        "a = []\n",
        "b = [0] * (n - 2)\n",
        "for i in range(n - 2):\n",
        "  a.append(b.copy())\n",
        "\n",
        "for i in range(1, n - 1):\n",
        "  if i > 1:\n",
        "    a[i - 1][i - 2] = x[i] - x[i - 1]\n",
        "  a[i - 1][i - 1] = 2 * (x[i + 1] - x[i - 1])\n",
        "  if i < n - 2:\n",
        "    a[i - 1][i] = x[i + 1] - x[i]\n",
        "  b[i - 1] = (6 / (x[i + 1] - x[i])) * (y[i + 1] - y[i]) + (6 / (x[i] - x[i - 1]) * (y[i - 1] - y[i]))\n",
        "\n",
        "rtaAux = gaussJordan(a, b)\n",
        "f2 = [0] + rtaAux + [0]\n",
        "\n",
        "for i in range(1, n):\n",
        "  t1 = f2[i - 1] / (6 * (x[i] - x[i - 1]))\n",
        "  t2 = f2[i] / (6 * (x[i] - x[i - 1]))\n",
        "  t3 = y[i - 1] / (x[i] - x[i - 1]) - f2[i - 1] * (x[i] - x[i - 1]) / 6\n",
        "  t4 = y[i] / (x[i] - x[i - 1]) - f2[i] * (x[i] - x[i - 1]) / 6\n",
        "\n",
        "  arrCoef = [0] * 4\n",
        "\n",
        "  #Se calculan los coeficientes del polinomio\n",
        "  arrCoef[0] = t1 * math.pow(x[i], 3) - t2 * math.pow(x[i - 1], 3) + t3 * x[i] - t4 * x[i - 1]\n",
        "  arrCoef[1] = -t1 * 3 * math.pow(x[i], 2) + t2 * 3 * math.pow(x[i - 1], 2) - t3 + t4\n",
        "  arrCoef[2] = t1 * 3 * x[i] - t2 * 3 * x[i - 1]\n",
        "  arrCoef[3] = -t1 + t2\n",
        "\n",
        "  print(\"f(x) = \", end=\"\")\n",
        "  for j in range(4):\n",
        "    if arrCoef[j] != 0:\n",
        "      if j > 0:\n",
        "        print(\"+ \", end=\"\")\n",
        "      print(arrCoef[j], end=\"\")\n",
        "      if j == 0:\n",
        "        print(\" \", end=\"\")\n",
        "      elif j == 1:\n",
        "        print(\"x \", end=\"\")\n",
        "      else:\n",
        "        print(\"x^\" + str(j) + \" \", end=\"\")\n",
        "\n",
        "  print(\"{x>=\" + str(x[i - 1]) + \"}{x<\" + str(x[i]) + \"}\")"
      ]
    }
  ]
}