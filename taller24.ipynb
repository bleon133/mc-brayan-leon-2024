{
  "nbformat": 4,
  "nbformat_minor": 0,
  "metadata": {
    "colab": {
      "provenance": []
    },
    "kernelspec": {
      "name": "python3",
      "display_name": "Python 3"
    },
    "language_info": {
      "name": "python"
    }
  },
  "cells": [
    {
      "cell_type": "code",
      "source": [
        "def multiplicar_polinomios(a, b):\n",
        "    longitud = len(a) + len(b) -1\n",
        "    resultado = [0] * longitud\n",
        "\n",
        "    for i in range(len(a)):\n",
        "        for j in range((len(b))):\n",
        "            resultado[i + j] += a[i] * b[j]\n",
        "\n",
        "    return resultado"
      ],
      "metadata": {
        "id": "vIDa9bvqk_zm"
      },
      "execution_count": 78,
      "outputs": []
    },
    {
      "cell_type": "code",
      "source": [
        "def imprimir_polinomio(p):\n",
        "  texto = 'f(x)='\n",
        "  grado = len(p) - 1\n",
        "  for i in range(len(p)):\n",
        "    if p[i] != 0:\n",
        "      if i > 0 and p[i] >= 0:\n",
        "        texto += '+'\n",
        "\n",
        "      texto += str(round(p[i],6))\n",
        "\n",
        "      if grado == 1:\n",
        "        texto += 'x'\n",
        "      elif grado > 1:\n",
        "        texto += 'x^' + str(grado)\n",
        "\n",
        "    grado -= 1\n",
        "\n",
        "  print(texto)"
      ],
      "metadata": {
        "id": "Tuz0D_Xro_y0"
      },
      "execution_count": 79,
      "outputs": []
    },
    {
      "cell_type": "code",
      "execution_count": 80,
      "metadata": {
        "id": "9wNQvTBlkeOe"
      },
      "outputs": [],
      "source": [
        "x = [1, 2, 3, 4, 5]\n",
        "y = [2, 1.8, -2, -4.6, 3.6]"
      ]
    },
    {
      "cell_type": "code",
      "source": [
        "n = len(x)\n",
        "\n",
        "polinomio = [0] * n\n",
        "\n",
        "for i in range(n):\n",
        "  numerador = [1]\n",
        "  denominador = 1\n",
        "  for j in range(n):\n",
        "    if j != i:\n",
        "      numerador = multiplicar_polinomios(numerador, [1,-x[j]])\n",
        "      denominador = denominador * (x[i] - x[j])\n",
        "\n",
        "  lixfxi = []\n",
        "  for k in range(len(numerador)):\n",
        "    lixfxi.append(numerador[k] / denominador * y[i])\n",
        "\n",
        "  for k in range(len(lixfxi)):\n",
        "    polinomio[k] += lixfxi[k]"
      ],
      "metadata": {
        "id": "2vD0lBrYknt9"
      },
      "execution_count": 81,
      "outputs": []
    },
    {
      "cell_type": "code",
      "source": [
        "imprimir_polinomio(polinomio)"
      ],
      "metadata": {
        "colab": {
          "base_uri": "https://localhost:8080/"
        },
        "id": "muNEMyhRmRt2",
        "outputId": "976f15ab-3ae7-4c2c-f425-691040e6b54a"
      },
      "execution_count": 82,
      "outputs": [
        {
          "output_type": "stream",
          "name": "stdout",
          "text": [
            "f(x)=0.2x^4-1.2x^3+0.4x^2+4.0x-1.4\n"
          ]
        }
      ]
    }
  ]
}